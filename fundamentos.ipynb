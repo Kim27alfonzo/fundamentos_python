{
 "cells": [
  {
   "cell_type": "markdown",
   "metadata": {},
   "source": [
    "####  Fundamentos de python\n",
    "* Variables\n",
    "* Operadores matematicos\n",
    "* Operadores logicos\n",
    "* Operadores de comparacion \n",
    "* Estructuras de control\n",
    "    - Condiciones\n",
    "    - Ciclo finito: for\n",
    "    - Ciclo infinito: while\n",
    "    - Funciones\n",
    "* Estructuras de datos\n",
    "    - Cadenas de caracteres: string\n",
    "    - Numeros enteros: int\n",
    "    - Numeros decimales: float\n",
    "    - Listas\n",
    "    - Diccionarios\n",
    "    - Tuplas\n",
    "    \n",
    "\n"
   ]
  },
  {
   "cell_type": "code",
   "execution_count": 3,
   "metadata": {},
   "outputs": [
    {
     "name": "stdout",
     "output_type": "stream",
     "text": [
      "hola mundo\n"
     ]
    }
   ],
   "source": [
    "print (\"hola mundo\")"
   ]
  },
  {
   "cell_type": "code",
   "execution_count": 4,
   "metadata": {},
   "outputs": [],
   "source": [
    "# Variables\n",
    "name = \"Juan\"\n",
    "last_name = \"Perez\""
   ]
  },
  {
   "cell_type": "code",
   "execution_count": 6,
   "metadata": {},
   "outputs": [],
   "source": [
    "# Mala practica \n",
    "LastName = \"Gomez\""
   ]
  },
  {
   "cell_type": "code",
   "execution_count": 7,
   "metadata": {},
   "outputs": [],
   "source": [
    "# Operadores matematicos\n",
    "number_1 = 10\n",
    "number_2 = 5"
   ]
  },
  {
   "cell_type": "code",
   "execution_count": 8,
   "metadata": {},
   "outputs": [],
   "source": [
    "#suma\n",
    "result = number_1 + number_2\n"
   ]
  },
  {
   "cell_type": "code",
   "execution_count": 11,
   "metadata": {},
   "outputs": [
    {
     "name": "stdout",
     "output_type": "stream",
     "text": [
      "15\n"
     ]
    }
   ],
   "source": [
    "print (result)"
   ]
  },
  {
   "cell_type": "code",
   "execution_count": 13,
   "metadata": {},
   "outputs": [],
   "source": [
    "# Resta\n",
    "result_sub = number_1 - number_2"
   ]
  },
  {
   "cell_type": "code",
   "execution_count": null,
   "metadata": {},
   "outputs": [],
   "source": [
    "# Multiplicacion\n",
    "result_mult = number_1 * number_2\n",
    "\n",
    "# Division\n",
    "result_div = number_1 / number_2"
   ]
  },
  {
   "cell_type": "code",
   "execution_count": 14,
   "metadata": {},
   "outputs": [
    {
     "name": "stdout",
     "output_type": "stream",
     "text": [
      "5\n"
     ]
    }
   ],
   "source": [
    "print (result_sub)"
   ]
  },
  {
   "cell_type": "code",
   "execution_count": 15,
   "metadata": {},
   "outputs": [
    {
     "data": {
      "text/plain": [
       "int"
      ]
     },
     "execution_count": 15,
     "metadata": {},
     "output_type": "execute_result"
    }
   ],
   "source": [
    "type(result_sub)"
   ]
  },
  {
   "cell_type": "code",
   "execution_count": null,
   "metadata": {},
   "outputs": [],
   "source": []
  },
  {
   "cell_type": "code",
   "execution_count": null,
   "metadata": {},
   "outputs": [],
   "source": [
    "# Operadores de comparacion\n",
    "# == igual\n",
    "# != diferente\n",
    "# > mayor que\n",
    "# < menor que\n",
    "# >= mayor o igual que\n",
    "# <= menor o igual que"
   ]
  },
  {
   "cell_type": "code",
   "execution_count": 16,
   "metadata": {},
   "outputs": [],
   "source": [
    "# Operadores booleanos\n",
    "# True\n",
    "# False"
   ]
  },
  {
   "cell_type": "code",
   "execution_count": null,
   "metadata": {},
   "outputs": [],
   "source": []
  },
  {
   "cell_type": "code",
   "execution_count": 17,
   "metadata": {},
   "outputs": [
    {
     "data": {
      "text/plain": [
       "True"
      ]
     },
     "execution_count": 17,
     "metadata": {},
     "output_type": "execute_result"
    }
   ],
   "source": [
    "# Ejemplos\n",
    "4 == 4"
   ]
  },
  {
   "cell_type": "code",
   "execution_count": 18,
   "metadata": {},
   "outputs": [
    {
     "data": {
      "text/plain": [
       "False"
      ]
     },
     "execution_count": 18,
     "metadata": {},
     "output_type": "execute_result"
    }
   ],
   "source": [
    "number_1 == number_2"
   ]
  },
  {
   "cell_type": "code",
   "execution_count": 19,
   "metadata": {},
   "outputs": [
    {
     "name": "stdout",
     "output_type": "stream",
     "text": [
      "El numero 1 es mayor que el numero 2\n"
     ]
    }
   ],
   "source": [
    "# Condicionales\n",
    "if number_1 > number_2:\n",
    "    print (\"El numero 1 es mayor que el numero 2\")"
   ]
  },
  {
   "cell_type": "code",
   "execution_count": 20,
   "metadata": {},
   "outputs": [
    {
     "ename": "SyntaxError",
     "evalue": "expected ':' (3858940542.py, line 2)",
     "output_type": "error",
     "traceback": [
      "\u001b[1;36m  Cell \u001b[1;32mIn[20], line 2\u001b[1;36m\u001b[0m\n\u001b[1;33m    if number_1 > number_2\u001b[0m\n\u001b[1;37m                          ^\u001b[0m\n\u001b[1;31mSyntaxError\u001b[0m\u001b[1;31m:\u001b[0m expected ':'\n"
     ]
    }
   ],
   "source": [
    "# Condicionales\n",
    "if number_1 > number_2\n",
    "    print (\"El numero 1 es mayor que el numero 2\")"
   ]
  },
  {
   "cell_type": "code",
   "execution_count": null,
   "metadata": {},
   "outputs": [
    {
     "name": "stdout",
     "output_type": "stream",
     "text": [
      "El numero 1 es igual que el numero 2\n"
     ]
    }
   ],
   "source": [
    "# Condicionales\n",
    "\n",
    "number_1 = 20\n",
    "number_2 = 20\n",
    "\n",
    "if number_1 > number_2:\n",
    "    print (\"El numero 1 es mayor que el numero 2\")\n",
    "\n",
    "elif number_1 == number_2:\n",
    "    print (\"El numero 1 es igual que el numero 2\")\n",
    "\n",
    "else:\n",
    "    print (\"El numero 1 es menor que el numero 2\")"
   ]
  },
  {
   "cell_type": "code",
   "execution_count": 25,
   "metadata": {},
   "outputs": [
    {
     "name": "stdout",
     "output_type": "stream",
     "text": [
      "El numero 1 es mayor que el numero 2\n"
     ]
    }
   ],
   "source": [
    "# Condicionales anidados\n",
    "\n",
    "number_1 = 20\n",
    "number_2 = 10\n",
    "\n",
    "if number_1 > number_2:\n",
    "    if number_1 > 10:\n",
    "        print (\"El numero 1 es mayor que el numero 2\")\n",
    "\n",
    "elif number_1 == number_2:\n",
    "    print (\"El numero 1 es igual que el numero 2\")\n",
    "\n",
    "else:\n",
    "    print (\"El numero 1 es menor que el numero 2\")"
   ]
  },
  {
   "cell_type": "code",
   "execution_count": 27,
   "metadata": {},
   "outputs": [
    {
     "name": "stdout",
     "output_type": "stream",
     "text": [
      "El numero 1: \"20\" es mayor que el numero 2: \"10\"\n"
     ]
    }
   ],
   "source": [
    "# Operadores logicos\n",
    "\n",
    "# and\n",
    "# or\n",
    "# not\n",
    "\n",
    "number_1 = 20\n",
    "number_2 = 10\n",
    "\n",
    "if (number_1 > number_2) and (number_1 > 10):\n",
    "        print (f'El numero 1: \"{number_1}\" es mayor que el numero 2: \"{number_2}\"')\n",
    "\n",
    "elif number_1 == number_2:\n",
    "    print (f'El numero 1: \"{number_1}\" es igual que el numero 2: \"{number_2}\"')\n",
    "\n",
    "else:\n",
    "    print (f'El numero 1: \"{number_1}\" es menor que el numero 2: \"{number_2}\"')"
   ]
  },
  {
   "cell_type": "code",
   "execution_count": null,
   "metadata": {},
   "outputs": [],
   "source": [
    "# Juego de piedra, papel o tijera (versión básica para dos usuarios)\n",
    "\n",
    "# Solicitar elección de los usuarios\n",
    "\n",
    "usuario_1 = input (\"Ingrese su nombre:\")\n",
    "usuario_2 = input (\"Ingrese su nombre:\") \n",
    "\n",
    "seleccion_usuario_1 = input(f\"{usuario_1}, elige piedra, papel o tijera: \").lower()\n",
    "seleccion_usuario_2 = input(f\"{usuario_2}, elige piedra, papel o tijera: \").lower()\n",
    "\n",
    "# Determinar el resultado\n",
    "if usuario_1 == usuario_2:\n",
    "    print(\"¡Es un empate!\")\n",
    "elif (seleccion_usuario_1 == \"piedra\" and seleccion_usuario_2 == \"tijera\") or \\\n",
    "     (seleccion_usuario_1 == \"papel\" and seleccion_usuario_2 == \"piedra\") or \\\n",
    "     (seleccion_usuario_1 == \"tijera\" and seleccion_usuario_2 == \"papel\"):\n",
    "    print(\"¡Usuario 1 gana!\")\n",
    "else:\n",
    "    print(\"¡Usuario 2 gana!\")"
   ]
  },
  {
   "cell_type": "code",
   "execution_count": null,
   "metadata": {},
   "outputs": [],
   "source": []
  }
 ],
 "metadata": {
  "kernelspec": {
   "display_name": "Python 3",
   "language": "python",
   "name": "python3"
  },
  "language_info": {
   "codemirror_mode": {
    "name": "ipython",
    "version": 3
   },
   "file_extension": ".py",
   "mimetype": "text/x-python",
   "name": "python",
   "nbconvert_exporter": "python",
   "pygments_lexer": "ipython3",
   "version": "3.13.0"
  }
 },
 "nbformat": 4,
 "nbformat_minor": 2
}
